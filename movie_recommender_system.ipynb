{
 "cells": [
  {
   "cell_type": "markdown",
   "id": "923dc13f",
   "metadata": {},
   "source": [
    "# Movie Recommender System using Collaborative Filtering"
   ]
  },
  {
   "cell_type": "markdown",
   "id": "63beb9fd",
   "metadata": {},
   "source": [
    "\n",
    "This notebook demonstrates building a movie recommender system using the MovieLens dataset.\n",
    "It applies collaborative filtering with matrix factorisation (SVD) and compares results with a content-based method.\n"
   ]
  },
  {
   "cell_type": "code",
   "execution_count": 4,
   "id": "db681ae2",
   "metadata": {},
   "outputs": [
    {
     "data": {
      "text/html": [
       "<div>\n",
       "<style scoped>\n",
       "    .dataframe tbody tr th:only-of-type {\n",
       "        vertical-align: middle;\n",
       "    }\n",
       "\n",
       "    .dataframe tbody tr th {\n",
       "        vertical-align: top;\n",
       "    }\n",
       "\n",
       "    .dataframe thead th {\n",
       "        text-align: right;\n",
       "    }\n",
       "</style>\n",
       "<table border=\"1\" class=\"dataframe\">\n",
       "  <thead>\n",
       "    <tr style=\"text-align: right;\">\n",
       "      <th></th>\n",
       "      <th>user_id</th>\n",
       "      <th>item_id</th>\n",
       "      <th>rating</th>\n",
       "      <th>timestamp</th>\n",
       "    </tr>\n",
       "  </thead>\n",
       "  <tbody>\n",
       "    <tr>\n",
       "      <th>0</th>\n",
       "      <td>196</td>\n",
       "      <td>242</td>\n",
       "      <td>3</td>\n",
       "      <td>881250949</td>\n",
       "    </tr>\n",
       "    <tr>\n",
       "      <th>1</th>\n",
       "      <td>186</td>\n",
       "      <td>302</td>\n",
       "      <td>3</td>\n",
       "      <td>891717742</td>\n",
       "    </tr>\n",
       "    <tr>\n",
       "      <th>2</th>\n",
       "      <td>22</td>\n",
       "      <td>377</td>\n",
       "      <td>1</td>\n",
       "      <td>878887116</td>\n",
       "    </tr>\n",
       "    <tr>\n",
       "      <th>3</th>\n",
       "      <td>244</td>\n",
       "      <td>51</td>\n",
       "      <td>2</td>\n",
       "      <td>880606923</td>\n",
       "    </tr>\n",
       "    <tr>\n",
       "      <th>4</th>\n",
       "      <td>166</td>\n",
       "      <td>346</td>\n",
       "      <td>1</td>\n",
       "      <td>886397596</td>\n",
       "    </tr>\n",
       "  </tbody>\n",
       "</table>\n",
       "</div>"
      ],
      "text/plain": [
       "   user_id  item_id  rating  timestamp\n",
       "0      196      242       3  881250949\n",
       "1      186      302       3  891717742\n",
       "2       22      377       1  878887116\n",
       "3      244       51       2  880606923\n",
       "4      166      346       1  886397596"
      ]
     },
     "execution_count": 4,
     "metadata": {},
     "output_type": "execute_result"
    }
   ],
   "source": [
    "\n",
    "import pandas as pd\n",
    "from sklearn.decomposition import TruncatedSVD\n",
    "from sklearn.metrics.pairwise import cosine_similarity\n",
    "import matplotlib.pyplot as plt\n",
    "\n",
    "# Load MovieLens small dataset (if available locally)\n",
    "# Example path: \"ml-latest-small/ratings.csv\"\n",
    "ratings = pd.read_csv(\"https://raw.githubusercontent.com/justmarkham/DAT8/master/data/u.data\", \n",
    "                      sep=\"\\t\", header=None, names=[\"user_id\",\"item_id\",\"rating\",\"timestamp\"])\n",
    "\n",
    "ratings.head()\n"
   ]
  },
  {
   "cell_type": "code",
   "execution_count": 5,
   "id": "1ff345f6",
   "metadata": {},
   "outputs": [
    {
     "name": "stdout",
     "output_type": "stream",
     "text": [
      "Item similarity matrix shape: (20, 20)\n"
     ]
    }
   ],
   "source": [
    "\n",
    "# Create user-item matrix\n",
    "user_item_matrix = ratings.pivot(index='user_id', columns='item_id', values='rating').fillna(0)\n",
    "\n",
    "# Apply SVD\n",
    "svd = TruncatedSVD(n_components=20)\n",
    "matrix_svd = svd.fit_transform(user_item_matrix)\n",
    "\n",
    "# Compute cosine similarity between items\n",
    "item_similarity = cosine_similarity(matrix_svd.T)\n",
    "print(\"Item similarity matrix shape:\", item_similarity.shape)\n"
   ]
  },
  {
   "cell_type": "code",
   "execution_count": 6,
   "id": "d1e90f25",
   "metadata": {},
   "outputs": [
    {
     "name": "stdout",
     "output_type": "stream",
     "text": [
      "Top 10 similar items to movie 5 : [ 5  7 16 14 11 18  4 12  1 10]\n"
     ]
    }
   ],
   "source": [
    "\n",
    "# Simple recommendation for a chosen item (movie)\n",
    "item_id = 5\n",
    "similar_items = item_similarity[item_id].argsort()[-10:][::-1]\n",
    "print(\"Top 10 similar items to movie\", item_id, \":\", similar_items)\n"
   ]
  }
 ],
 "metadata": {
  "kernelspec": {
   "display_name": "Python 3 (ipykernel)",
   "language": "python",
   "name": "python3"
  },
  "language_info": {
   "codemirror_mode": {
    "name": "ipython",
    "version": 3
   },
   "file_extension": ".py",
   "mimetype": "text/x-python",
   "name": "python",
   "nbconvert_exporter": "python",
   "pygments_lexer": "ipython3",
   "version": "3.11.3"
  }
 },
 "nbformat": 4,
 "nbformat_minor": 5
}
